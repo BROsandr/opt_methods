{
 "cells": [
  {
   "cell_type": "code",
   "execution_count": 1,
   "metadata": {},
   "outputs": [],
   "source": [
    "%matplotlib inline\n",
    "\n",
    "import matplotlib\n",
    "import matplotlib.pyplot as plt"
   ]
  },
  {
   "cell_type": "code",
   "execution_count": 2,
   "metadata": {},
   "outputs": [],
   "source": [
    "import numpy as np"
   ]
  },
  {
   "cell_type": "code",
   "execution_count": 3,
   "metadata": {},
   "outputs": [],
   "source": [
    "from utils import *\n",
    "from algos import *\n",
    "from plot import *"
   ]
  },
  {
   "cell_type": "markdown",
   "metadata": {},
   "source": [
    "**Вариант 11**"
   ]
  },
  {
   "cell_type": "code",
   "execution_count": 4,
   "metadata": {},
   "outputs": [],
   "source": [
    "def f(x):\n",
    "  return x**4 + x**2 + x + 1\n",
    "\n",
    "def fd1(x):\n",
    "  return 4 * x**3 + 2 * x + 1\n",
    "\n",
    "def fd2(x):\n",
    "  return 12 * x**2 + 2\n",
    "\n",
    "def fd3(x):\n",
    "  return 24 * x\n",
    "\n",
    "a, b = -1, 0\n",
    "EXACT_MIN_POINT = Point(x=-0.38546, y=0.78520)"
   ]
  },
  {
   "cell_type": "code",
   "execution_count": 5,
   "metadata": {},
   "outputs": [],
   "source": [
    "x0 = -0.5\n",
    "assert fd1(-0.5) * fd3(-0.5) > 0 # Достаточное условие монотонной сходмимости Ньютона"
   ]
  },
  {
   "cell_type": "code",
   "execution_count": 6,
   "metadata": {},
   "outputs": [
    {
     "data": {
      "image/png": "[encoded data removed]",
      "text/plain": [
       "<Figure size 640x480 with 1 Axes>"
      ]
     },
     "metadata": {},
     "output_type": "display_data"
    }
   ],
   "source": [
    "x = np.arange(a, b, 0.001)\n",
    "y = [f(y) for y in x]\n",
    "\n",
    "fig, ax = plt.subplots()\n",
    "ax.scatter(EXACT_MIN_POINT.x, EXACT_MIN_POINT.y, c='r', label='$x^*$')\n",
    "ax.plot(x, y)\n",
    "ax.set(xlabel='x', ylabel='y')\n",
    "ax.legend()\n",
    "ax.grid()\n",
    "plt.show()"
   ]
  },
  {
   "cell_type": "code",
   "execution_count": 13,
   "metadata": {},
   "outputs": [
    {
     "name": "stdout",
     "output_type": "stream",
     "text": [
      "ε: 0.1\n",
      "Перебор. Point(x=-0.3999999999999999, y=0.7856), N: 11\n",
      "Поразрядный поиск. Point(x=-0.375, y=0.785400390625), N: 7\n",
      "Дихотомия. Point(x=-0.43875, y=0.7908084140649414), N: 7\n",
      "Золотое сечение. Point(x=-0.39918693812442196, y=0.7855557633718624), N: 7\n",
      "Метод парабол. Point(x=-0.38201867513520715, y=None), N: 4\n",
      "Метод средней точки. Point(x=-0.375, y=None), Nd1: 4\n",
      "Метод хорд. Point(x=-0.36535699571553826, y=None), Nd1: 4\n",
      "Метод Ньютона. Point(x=-0.38571428571428573, y=None), Nd1: 2, Nd2: 2\n",
      "Метод Ньютона-Рафсона. Point(x=-0.38576485874560856, y=None), Nd1: 4, Nd2: 2\n",
      "Метод Марквардта. Point(x=-0.39117138490394704, y=0.7852572737148062), N: 7, Nd1: 6, Nd2: 6\n",
      "ε: 0.01\n",
      "Перебор. Point(x=-0.39, y=0.7852344099999999), N: 101\n",
      "Поразрядный поиск. Point(x=-0.3874999999999993, y=0.7852031494140626), N: 34\n",
      "Дихотомия. Point(x=-0.383046875, y=0.7852062322061241), N: 13\n",
      "Золотое сечение. Point(x=-0.38854381999831844, y=0.7852133038140368), N: 12\n",
      "Метод парабол. Point(x=-0.38484083372280703, y=None), N: 5\n",
      "Метод средней точки. Point(x=-0.3828125, y=None), Nd1: 5\n",
      "Метод хорд. Point(x=-0.38379118406798174, y=None), Nd1: 5\n",
      "Метод Ньютона. Point(x=-0.3854585785144336, y=None), Nd1: 3, Nd2: 3\n",
      "Метод Ньютона-Рафсона. Point(x=-0.38545861330834386, y=None), Nd1: 6, Nd2: 3\n",
      "Метод Марквардта. Point(x=-0.38555295721894106, y=0.7851952700249685), N: 9, Nd1: 8, Nd2: 8\n",
      "ε: 0.001\n",
      "Перебор. Point(x=-0.385, y=0.785195650625), N: 1001\n",
      "Поразрядный поиск. Point(x=-0.3856250000000105, y=0.785195305590973), N: 254\n",
      "Дихотомия. Point(x=-0.38527685546875, y=0.7851953155454254), N: 21\n",
      "Золотое сечение. Point(x=-0.3860313206279953, y=0.7851958740757783), N: 16\n",
      "Метод парабол. Point(x=-0.3850955494956334, y=None), N: 6\n",
      "Метод средней точки. Point(x=-0.38525390625, y=None), Nd1: 6\n",
      "Метод хорд. Point(x=-0.38520287985942314, y=None), Nd1: 6\n",
      "Метод Ньютона. Point(x=-0.3854585785144336, y=None), Nd1: 3, Nd2: 3\n",
      "Метод Ньютона-Рафсона. Point(x=-0.38545849852964015, y=None), Nd1: 8, Nd2: 4\n",
      "Метод Марквардта. Point(x=-0.3854631453396607, y=0.7851952531879804), N: 10, Nd1: 9, Nd2: 9\n",
      "ε: 0.0001\n",
      "Перебор. Point(x=-0.38549999999999995, y=0.7851952564050625), N: 10001\n",
      "Поразрядный поиск. Point(x=-0.38543750000006777, y=0.7851952539811451), N: 2464\n",
      "Дихотомия. Point(x=-0.3854393029785156, y=0.7851952538440754), N: 27\n",
      "Золотое сечение. Point(x=-0.3854381999831844, y=0.7851952539264693), N: 21\n",
      "Метод парабол. Point(x=-0.3854181435355708, y=None), N: 8\n",
      "Метод средней точки. Point(x=-0.38543701171875, y=None), Nd1: 8\n",
      "Метод хорд. Point(x=-0.3854375466910329, y=None), Nd1: 8\n",
      "Метод Ньютона. Point(x=-0.3854584985296319, y=None), Nd1: 4, Nd2: 4\n",
      "Метод Ньютона-Рафсона. Point(x=-0.38545849852964015, y=None), Nd1: 8, Nd2: 4\n",
      "Метод Марквардта. Point(x=-0.38545861549232135, y=0.785195253147164), N: 11, Nd1: 10, Nd2: 10\n"
     ]
    }
   ],
   "source": [
    "for eps in (1e-1, 1e-2, 1e-3, 1e-4):\n",
    "  print(f\"ε: {eps}\")\n",
    "\n",
    "  f_wrap = LogPointsWrap(f)\n",
    "  eps_point = brute_force(f=f_wrap, a=a, b=b, eps=eps)\n",
    "  print(f'Перебор. {eps_point}, N: {len(f_wrap.points)}')\n",
    "\n",
    "  f_wrap = LogPointsWrap(f)\n",
    "  eps_point = bitwise_search(f=f_wrap, a=a, b=b, eps=eps, get_init_delta=lambda *args: eps*2.5)\n",
    "  print(f'Поразрядный поиск. {eps_point}, N: {len(f_wrap.points)}')\n",
    "\n",
    "  f_wrap = LogPointsWrap(f)\n",
    "  eps_point = dichotomy(f=f_wrap, a=a, b=b, eps=eps)\n",
    "  print(f'Дихотомия. {eps_point}, N: {len(f_wrap.points)}')\n",
    "\n",
    "  f_wrap = LogPointsWrap(f)\n",
    "  eps_point = golden_ratio(f=f_wrap, a=a, b=b, eps=eps)\n",
    "  print(f'Золотое сечение. {eps_point}, N: {len(f_wrap.points)}')\n",
    "\n",
    "  f_wrap = LogPointsWrap(f)\n",
    "  eps_point = parabola(f=f_wrap, a=a, b=b, eps=eps, get_init_points=get_init_points_gr)\n",
    "  print(f'Метод парабол. {eps_point}, N: {len(f_wrap.points)}')\n",
    "\n",
    "  fd1_wrap = LogPointsWrap(fd1)\n",
    "  eps_point = midpoint(f=fd1_wrap, a=a, b=b, eps=eps)\n",
    "  print(f'Метод средней точки. {eps_point}, Nd1: {len(f_wrap.points)}')\n",
    "\n",
    "  fd1_wrap = LogPointsWrap(fd1)\n",
    "  eps_point = chord(f=fd1_wrap, a=a, b=b, eps=eps)\n",
    "  print(f'Метод хорд. {eps_point}, Nd1: {len(f_wrap.points)}')\n",
    "\n",
    "  fd1_wrap = LogPointsWrap(fd1)\n",
    "  fd2_wrap = LogPointsWrap(fd2)\n",
    "  eps_point = newton(fd1=fd1_wrap, fd2=fd2_wrap, x0=x0, eps=eps)\n",
    "  print(f'Метод Ньютона. {eps_point}, Nd1: {len(fd1_wrap.points)}, Nd2: {len(fd2_wrap.points)}')\n",
    "\n",
    "  fd1_wrap = LogPointsWrap(fd1)\n",
    "  fd2_wrap = LogPointsWrap(fd2)\n",
    "  eps_point = newton(fd1=fd1_wrap, fd2=fd2_wrap, x0=x0, eps=eps, use_tau=True)\n",
    "  print(f'Метод Ньютона-Рафсона. {eps_point}, Nd1: {len(fd1_wrap.points)}, Nd2: {len(fd2_wrap.points)}')\n",
    "\n",
    "  fd1_wrap = LogPointsWrap(fd1)\n",
    "  fd2_wrap = LogPointsWrap(fd2)\n",
    "  f_wrap   = LogPointsWrap(f)\n",
    "  eps_point = newton(fd1=fd1_wrap, fd2=fd2_wrap, x0=x0, eps=eps, f=f_wrap)\n",
    "  print(f'Метод Марквардта. {eps_point}, N: {len(f_wrap.points)}, Nd1: {len(fd1_wrap.points)}, Nd2: {len(fd2_wrap.points)}')\n",
    "  print()"
   ]
  }
 ],
 "metadata": {
  "kernelspec": {
   "display_name": ".venv",
   "language": "python",
   "name": "python3"
  },
  "language_info": {
   "codemirror_mode": {
    "name": "ipython",
    "version": 3
   },
   "file_extension": ".py",
   "mimetype": "text/x-python",
   "name": "python",
   "nbconvert_exporter": "python",
   "pygments_lexer": "ipython3",
   "version": "3.12.5"
  }
 },
 "nbformat": 4,
 "nbformat_minor": 2
}
