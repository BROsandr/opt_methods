{
 "cells": [
  {
   "cell_type": "code",
   "execution_count": 1,
   "metadata": {},
   "outputs": [],
   "source": [
    "%matplotlib inline\n",
    "\n",
    "import matplotlib\n",
    "import matplotlib.pyplot as plt"
   ]
  },
  {
   "cell_type": "code",
   "execution_count": 2,
   "metadata": {},
   "outputs": [],
   "source": [
    "import numpy as np"
   ]
  },
  {
   "cell_type": "code",
   "execution_count": 3,
   "metadata": {},
   "outputs": [],
   "source": [
    "from utils import *\n",
    "from algos import *\n",
    "from plot import *"
   ]
  },
  {
   "cell_type": "markdown",
   "metadata": {},
   "source": [
    "**Вариант 11**"
   ]
  },
  {
   "cell_type": "code",
   "execution_count": 4,
   "metadata": {},
   "outputs": [],
   "source": [
    "def f(x):\n",
    "  return x**4 + x**2 + x + 1\n",
    "\n",
    "def fd1(x):\n",
    "  return 4 * x**3 + 2 * x + 1\n",
    "\n",
    "def fd2(x):\n",
    "  return 12 * x**2 + 2\n",
    "\n",
    "def fd3(x):\n",
    "  return 24 * x\n",
    "\n",
    "a, b = -1, 0\n",
    "EXACT_MIN_POINT = Point(x=-0.38546, y=0.78520)"
   ]
  },
  {
   "cell_type": "code",
   "execution_count": 5,
   "metadata": {},
   "outputs": [],
   "source": [
    "x0 = -0.5\n",
    "assert fd1(-0.5) * fd3(-0.5) > 0 # Достаточное условие монотонной сходмимости Ньютона"
   ]
  },
  {
   "cell_type": "code",
   "execution_count": 6,
   "metadata": {},
   "outputs": [
    {
     "data": {
      "image/png": "[encoded data removed]",
      "text/plain": [
       "<Figure size 640x480 with 1 Axes>"
      ]
     },
     "metadata": {},
     "output_type": "display_data"
    }
   ],
   "source": [
    "x = np.arange(a, b, 0.001)\n",
    "y = [f(y) for y in x]\n",
    "\n",
    "fig, ax = plt.subplots()\n",
    "ax.scatter(EXACT_MIN_POINT.x, EXACT_MIN_POINT.y, c='r', label='$x^*$')\n",
    "ax.plot(x, y)\n",
    "ax.set(xlabel='x', ylabel='y')\n",
    "ax.legend()\n",
    "ax.grid()\n",
    "plt.show()"
   ]
  },
  {
   "cell_type": "code",
   "execution_count": 7,
   "metadata": {},
   "outputs": [
    {
     "name": "stdout",
     "output_type": "stream",
     "text": [
      "ε: 0.01\n",
      "Перебор. Point(x=-0.39, y=0.7852344099999999), N: 101\n",
      "Поразрядный поиск. Point(x=-0.38671875, y=0.7851982603315264), N: 13\n",
      "Дихотомия. Point(x=-0.383046875, y=0.7852062322061241), N: 13\n",
      "Золотое сечение. Point(x=-0.38854381999831844, y=0.7852133038140368), N: 12\n",
      "Метод парабол. Point(x=-0.38484083372280703, y=None), N: 5\n",
      "Метод средней точки. Point(x=-0.3828125, y=None), Nd1: 5\n",
      "Метод хорд. Point(x=-0.38379118406798174, y=None), Nd1: 5\n",
      "Метод Ньютона. Point(x=-0.3854585785144336, y=None), Nd1: 3, Nd2: 3\n",
      "Метод Ньютона-Рафсона. Point(x=-0.38545861330834386, y=None), Nd1: 6, Nd2: 3\n",
      "Метод Марквардта. Point(x=-0.38555295721894106, y=0.7851952700249685), N: 9, Nd1: 8, Nd2: 8\n",
      "\n",
      "ε: 0.001\n",
      "Перебор. Point(x=-0.385, y=0.785195650625), N: 1001\n",
      "Поразрядный поиск. Point(x=-0.3857421875, y=0.7851954054067392), N: 18\n",
      "Дихотомия. Point(x=-0.38527685546875, y=0.7851953155454254), N: 21\n",
      "Золотое сечение. Point(x=-0.3860313206279953, y=0.7851958740757783), N: 16\n",
      "Метод парабол. Point(x=-0.3850955494956334, y=None), N: 6\n",
      "Метод средней точки. Point(x=-0.38525390625, y=None), Nd1: 6\n",
      "Метод хорд. Point(x=-0.38520287985942314, y=None), Nd1: 6\n",
      "Метод Ньютона. Point(x=-0.3854585785144336, y=None), Nd1: 3, Nd2: 3\n",
      "Метод Ньютона-Рафсона. Point(x=-0.38545849852964015, y=None), Nd1: 8, Nd2: 4\n",
      "Метод Марквардта. Point(x=-0.3854631453396607, y=0.7851952531879804), N: 10, Nd1: 9, Nd2: 9\n",
      "\n",
      "ε: 0.0001\n",
      "Перебор. Point(x=-0.38549999999999995, y=0.7851952564050625), N: 10001\n",
      "Поразрядный поиск. Point(x=-0.38543701171875, y=0.7851952540203821), N: 26\n",
      "Дихотомия. Point(x=-0.3854393029785156, y=0.7851952538440754), N: 27\n",
      "Золотое сечение. Point(x=-0.3854381999831844, y=0.7851952539264693), N: 21\n",
      "Метод парабол. Point(x=-0.3854181435355708, y=None), N: 8\n",
      "Метод средней точки. Point(x=-0.38543701171875, y=None), Nd1: 8\n",
      "Метод хорд. Point(x=-0.3854375466910329, y=None), Nd1: 8\n",
      "Метод Ньютона. Point(x=-0.3854584985296319, y=None), Nd1: 4, Nd2: 4\n",
      "Метод Ньютона-Рафсона. Point(x=-0.38545849852964015, y=None), Nd1: 8, Nd2: 4\n",
      "Метод Марквардта. Point(x=-0.38545861549232135, y=0.785195253147164), N: 11, Nd1: 10, Nd2: 10\n",
      "\n",
      "ε: 1e-05\n",
      "Перебор. Point(x=-0.3854599999999999, y=0.7851952531514022), N: 100001\n",
      "Поразрядный поиск. Point(x=-0.38545989990234375, y=0.7851952531508526), N: 34\n",
      "Дихотомия. Point(x=-0.3854601289825439, y=0.7851952531521663), N: 33\n",
      "Золотое сечение. Point(x=-0.3854604701620348, y=0.7851952531544908), N: 26\n",
      "Метод парабол. Point(x=-0.3854538574121409, y=None), N: 10\n",
      "Метод средней точки. Point(x=-0.38545989990234375, y=None), Nd1: 10\n",
      "Метод хорд. Point(x=-0.3854567814511368, y=None), Nd1: 10\n",
      "Метод Ньютона. Point(x=-0.3854584985296319, y=None), Nd1: 4, Nd2: 4\n",
      "Метод Ньютона-Рафсона. Point(x=-0.38545849852964015, y=None), Nd1: 8, Nd2: 4\n",
      "Метод Марквардта. Point(x=-0.38545850002009324, y=0.785195253147138), N: 12, Nd1: 11, Nd2: 11\n",
      "\n"
     ]
    }
   ],
   "source": [
    "for eps in (1e-2, 1e-3, 1e-4, 1e-5):\n",
    "  print(f\"ε: {eps}\")\n",
    "\n",
    "  f_wrap = LogPointsWrap(f)\n",
    "  eps_point = brute_force(f=f_wrap, a=a, b=b, eps=eps)\n",
    "  print(f'Перебор. {eps_point}, N: {len(f_wrap.points)}')\n",
    "\n",
    "  f_wrap = LogPointsWrap(f)\n",
    "  eps_point = bitwise_search(f=f_wrap, a=a, b=b, eps=eps, get_init_delta=lambda *args: 0.25)\n",
    "  print(f'Поразрядный поиск. {eps_point}, N: {len(f_wrap.points)}')\n",
    "\n",
    "  f_wrap = LogPointsWrap(f)\n",
    "  eps_point = dichotomy(f=f_wrap, a=a, b=b, eps=eps)\n",
    "  print(f'Дихотомия. {eps_point}, N: {len(f_wrap.points)}')\n",
    "\n",
    "  f_wrap = LogPointsWrap(f)\n",
    "  eps_point = golden_ratio(f=f_wrap, a=a, b=b, eps=eps)\n",
    "  print(f'Золотое сечение. {eps_point}, N: {len(f_wrap.points)}')\n",
    "\n",
    "  f_wrap = LogPointsWrap(f)\n",
    "  eps_point = parabola(f=f_wrap, a=a, b=b, eps=eps, get_init_points=get_init_points_gr)\n",
    "  print(f'Метод парабол. {eps_point}, N: {len(f_wrap.points)}')\n",
    "\n",
    "  fd1_wrap = LogPointsWrap(fd1)\n",
    "  eps_point = midpoint(f=fd1_wrap, a=a, b=b, eps=eps)\n",
    "  print(f'Метод средней точки. {eps_point}, Nd1: {len(f_wrap.points)}')\n",
    "\n",
    "  fd1_wrap = LogPointsWrap(fd1)\n",
    "  eps_point = chord(f=fd1_wrap, a=a, b=b, eps=eps)\n",
    "  print(f'Метод хорд. {eps_point}, Nd1: {len(f_wrap.points)}')\n",
    "\n",
    "  fd1_wrap = LogPointsWrap(fd1)\n",
    "  fd2_wrap = LogPointsWrap(fd2)\n",
    "  eps_point = newton(fd1=fd1_wrap, fd2=fd2_wrap, x0=x0, eps=eps)\n",
    "  print(f'Метод Ньютона. {eps_point}, Nd1: {len(fd1_wrap.points)}, Nd2: {len(fd2_wrap.points)}')\n",
    "\n",
    "  fd1_wrap = LogPointsWrap(fd1)\n",
    "  fd2_wrap = LogPointsWrap(fd2)\n",
    "  eps_point = newton(fd1=fd1_wrap, fd2=fd2_wrap, x0=x0, eps=eps, use_tau=True)\n",
    "  print(f'Метод Ньютона-Рафсона. {eps_point}, Nd1: {len(fd1_wrap.points)}, Nd2: {len(fd2_wrap.points)}')\n",
    "\n",
    "  fd1_wrap = LogPointsWrap(fd1)\n",
    "  fd2_wrap = LogPointsWrap(fd2)\n",
    "  f_wrap   = LogPointsWrap(f)\n",
    "  eps_point = newton(fd1=fd1_wrap, fd2=fd2_wrap, x0=x0, eps=eps, f=f_wrap)\n",
    "  print(f'Метод Марквардта. {eps_point}, N: {len(f_wrap.points)}, Nd1: {len(fd1_wrap.points)}, Nd2: {len(fd2_wrap.points)}')\n",
    "  print()"
   ]
  },
  {
   "cell_type": "markdown",
   "metadata": {},
   "source": [
    "**Выводы:**\n",
    "1. Среди методов, использующих значения функции в точке, самый простой (метод перебора) оказался самым неэффективным, количество вычислений значения функции N зависит обратно пропорционально от точности ε. Улучшенный вариант этого метода (метод поразрядного поиска) является намного эффективней, в силу использования унимодальности исследуемой функции.\n",
    "1. Для методов с исключением отрезков можно рассмотреть формулы для вычисления количества итераций, зависящих от точности. Для метода дихотомии фигурирует log2(x), который растёт быстрее чем ln(x), используемый для метода золотого сечения. Соответственно, для второго метода требуется меньшее кол-во итераций, а значит и меньшее кол-во вычислений значения функции в точке, что и видно из результатов.\n",
    "1. Метод парабол является наиболее эффективным среди прямых методов, так как в этом методе строится аппроксимирующий многочлен второго порядка с дальнейшим уменьшением отрезка аппроксимации.\n",
    "1. Сравнивая метод средней точки и метод дихотомии, можно сделать вывод, что первый является почти в два раза эффективней второго метода, так как вычисление двух значений функции вблизи середины очередного отрезка в методе дихотомии можно заменить вычислением одного значения производной исследуемой функции.\n",
    "1. Рассматривая метод Ньютона можно заметить, что для минимизации исследуемой функции с точностью 0.01, 0.001 и 0.0001 потребовалось одинаковое количество вычислений, что говорит о квадратичной скорости сходимости последовательности."
   ]
  },
  {
   "cell_type": "code",
   "execution_count": 8,
   "metadata": {},
   "outputs": [],
   "source": [
    "def newton_f(x):\n",
    "  return x * math.atan(x) - 1 / 2 * math.log(1 + x**2)\n",
    "\n",
    "def newton_fd1(x):\n",
    "  return math.atan(x)\n",
    "\n",
    "def newton_fd2(x):\n",
    "  return 1 / (1 + x * x)\n",
    "\n",
    "NEWTON_EXACT_MIN_POINT = Point(x=0, y=0)"
   ]
  },
  {
   "cell_type": "code",
   "execution_count": 9,
   "metadata": {},
   "outputs": [
    {
     "data": {
      "image/png": "[encoded data removed]",
      "text/plain": [
       "<Figure size 640x480 with 1 Axes>"
      ]
     },
     "metadata": {},
     "output_type": "display_data"
    }
   ],
   "source": [
    "x = np.arange(-50, 50, 0.001)\n",
    "y = [f(y) for y in x]\n",
    "\n",
    "fig, ax = plt.subplots()\n",
    "ax.scatter(EXACT_MIN_POINT.x, EXACT_MIN_POINT.y, c='r', label='$x^*$')\n",
    "ax.plot(x, y)\n",
    "ax.set(xlabel='x', ylabel='y')\n",
    "ax.legend()\n",
    "ax.grid()\n",
    "plt.show()\n",
    "\n",
    "eps = 0.1"
   ]
  },
  {
   "cell_type": "code",
   "execution_count": 10,
   "metadata": {},
   "outputs": [
    {
     "name": "stderr",
     "output_type": "stream",
     "text": [
      "C:\\Users\\root\\AppData\\Local\\Temp\\ipykernel_10940\\1333368622.py:8: RuntimeWarning: overflow encountered in scalar multiply\n",
      "  return 1 / (1 + x * x)\n",
      "c:\\Users\\root\\Desktop\\code\\python\\opt_methods\\lab1\\algos.py:258: RuntimeWarning: divide by zero encountered in scalar divide\n",
      "  x_new = x - tau * yd1 / (yd2 + mu)\n",
      "c:\\Users\\root\\Desktop\\code\\python\\opt_methods\\lab1\\algos.py:258: RuntimeWarning: invalid value encountered in scalar subtract\n",
      "  x_new = x - tau * yd1 / (yd2 + mu)\n",
      "c:\\Users\\root\\Desktop\\code\\python\\opt_methods\\lab1\\algos.py:258: RuntimeWarning: overflow encountered in scalar divide\n",
      "  x_new = x - tau * yd1 / (yd2 + mu)\n"
     ]
    }
   ],
   "source": [
    "a_newt = x[0]\n",
    "eps_point = None\n",
    "for x0 in x:\n",
    "  try:\n",
    "    eps_point = newton(fd1=newton_fd1, fd2=newton_fd2, x0=x0, eps=eps)\n",
    "    b_newt = x0\n",
    "  except ValueError:\n",
    "    if eps_point is None:\n",
    "      a_newt = x0\n",
    "    else:\n",
    "      break"
   ]
  },
  {
   "cell_type": "code",
   "execution_count": 11,
   "metadata": {},
   "outputs": [
    {
     "name": "stderr",
     "output_type": "stream",
     "text": [
      "C:\\Users\\root\\AppData\\Local\\Temp\\ipykernel_10940\\1333368622.py:8: RuntimeWarning: overflow encountered in scalar multiply\n",
      "  return 1 / (1 + x * x)\n",
      "c:\\Users\\root\\Desktop\\code\\python\\opt_methods\\lab1\\algos.py:251: RuntimeWarning: divide by zero encountered in scalar divide\n",
      "  x_tau = x - yd1 / yd2\n",
      "c:\\Users\\root\\Desktop\\code\\python\\opt_methods\\lab1\\algos.py:251: RuntimeWarning: invalid value encountered in scalar subtract\n",
      "  x_tau = x - yd1 / yd2\n",
      "c:\\Users\\root\\Desktop\\code\\python\\opt_methods\\lab1\\algos.py:251: RuntimeWarning: overflow encountered in scalar divide\n",
      "  x_tau = x - yd1 / yd2\n"
     ]
    }
   ],
   "source": [
    "a_raph = x[0]\n",
    "eps_point = None\n",
    "for x0 in x:\n",
    "  try:\n",
    "    eps_point = newton(fd1=newton_fd1, fd2=newton_fd2, x0=x0, eps=eps, use_tau=True)\n",
    "    b_raph = x0\n",
    "  except ValueError:\n",
    "    if eps_point is None:\n",
    "      a_raph = x0\n",
    "    else:\n",
    "      break"
   ]
  },
  {
   "cell_type": "code",
   "execution_count": 12,
   "metadata": {},
   "outputs": [],
   "source": [
    "a_marq = x[0]\n",
    "eps_point = None\n",
    "for x0 in x:\n",
    "  try:\n",
    "    eps_point = newton(fd1=newton_fd1, fd2=newton_fd2, x0=x0, eps=eps, f=newton_f)\n",
    "    b_marq = x0\n",
    "  except ValueError:\n",
    "    if eps_point is None:\n",
    "      a_marq = x0\n",
    "    else:\n",
    "      break"
   ]
  },
  {
   "cell_type": "code",
   "execution_count": 13,
   "metadata": {},
   "outputs": [
    {
     "name": "stdout",
     "output_type": "stream",
     "text": [
      "                a       b\n",
      "Ньютон     -1.392   1.391\n",
      "Рафсон     -3.371   3.370\n",
      "Марквардт -28.606 -28.409\n"
     ]
    }
   ],
   "source": [
    "import pandas as pd\n",
    "\n",
    "# Define the data as a dictionary of lists (or other data structures).\n",
    "# Keys of the dictionary become column names, and the lists become row data.\n",
    "data = np.vstack([(a_newt, b_newt), (a_raph, b_raph), (a_marq, b_marq)])\n",
    "# Define row names (index) as a list.\n",
    "rows = [\"Ньютон\", \"Рафсон\", \"Марквардт\"]\n",
    "columns = ['a', 'b']\n",
    "\n",
    "# Create the DataFrame.\n",
    "df = pd.DataFrame(data, columns=columns, index=rows)\n",
    "\n",
    "# Display the DataFrame.\n",
    "print(df)\n"
   ]
  }
 ],
 "metadata": {
  "kernelspec": {
   "display_name": ".venv",
   "language": "python",
   "name": "python3"
  },
  "language_info": {
   "codemirror_mode": {
    "name": "ipython",
    "version": 3
   },
   "file_extension": ".py",
   "mimetype": "text/x-python",
   "name": "python",
   "nbconvert_exporter": "python",
   "pygments_lexer": "ipython3",
   "version": "3.12.3"
  }
 },
 "nbformat": 4,
 "nbformat_minor": 2
}
