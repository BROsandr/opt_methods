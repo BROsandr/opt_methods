{
 "cells": [
  {
   "cell_type": "code",
   "execution_count": 1,
   "metadata": {},
   "outputs": [],
   "source": [
    "%matplotlib inline\n",
    "\n",
    "import matplotlib\n",
    "import matplotlib.pyplot as plt"
   ]
  },
  {
   "cell_type": "code",
   "execution_count": 2,
   "metadata": {},
   "outputs": [],
   "source": [
    "import numpy as np\n",
    "import pandas as pd"
   ]
  },
  {
   "cell_type": "code",
   "execution_count": 3,
   "metadata": {},
   "outputs": [],
   "source": [
    "from utils import *\n",
    "from algos import *\n",
    "from plot import *"
   ]
  },
  {
   "cell_type": "markdown",
   "metadata": {},
   "source": [
    "**Вариант 11**"
   ]
  },
  {
   "cell_type": "code",
   "execution_count": 4,
   "metadata": {},
   "outputs": [],
   "source": [
    "def f(x):\n",
    "  return x**4 + x**2 + x + 1\n",
    "\n",
    "def fd1(x):\n",
    "  return 4 * x**3 + 2 * x + 1\n",
    "\n",
    "def fd2(x):\n",
    "  return 12 * x**2 + 2\n",
    "\n",
    "def fd3(x):\n",
    "  return 24 * x\n",
    "\n",
    "a, b = -1, 0\n",
    "EXACT_MIN_POINT = Point(x=-0.38546, y=0.78520)"
   ]
  },
  {
   "cell_type": "code",
   "execution_count": 5,
   "metadata": {},
   "outputs": [],
   "source": [
    "x0 = -0.5\n",
    "assert fd1(-0.5) * fd3(-0.5) > 0 # Достаточное условие монотонной сходмимости Ньютона"
   ]
  },
  {
   "cell_type": "code",
   "execution_count": 6,
   "metadata": {},
   "outputs": [
    {
     "data": {
      "image/png": "[encoded data removed]",
      "text/plain": [
       "<Figure size 640x480 with 1 Axes>"
      ]
     },
     "metadata": {},
     "output_type": "display_data"
    }
   ],
   "source": [
    "x = np.arange(a, b, 0.001)\n",
    "y = [f(y) for y in x]\n",
    "\n",
    "fig, ax = plt.subplots()\n",
    "ax.scatter(EXACT_MIN_POINT.x, EXACT_MIN_POINT.y, c='r', label='$x^*$')\n",
    "ax.plot(x, y)\n",
    "ax.set(xlabel='x', ylabel='y')\n",
    "ax.legend()\n",
    "ax.grid()\n",
    "plt.show()"
   ]
  },
  {
   "cell_type": "code",
   "execution_count": 7,
   "metadata": {},
   "outputs": [
    {
     "name": "stdout",
     "output_type": "stream",
     "text": [
      "ε: 0.01\n",
      "Перебор. Point(x=-0.39, y=0.7852344099999999), N: 101\n",
      "Поразрядный поиск. Point(x=-0.38671875, y=0.7851982603315264), N: 13\n",
      "Дихотомия. Point(x=-0.383046875, y=0.7852062322061241), N: 13\n",
      "Золотое сечение. Point(x=-0.38854381999831844, y=0.7852133038140368), N: 12\n",
      "Метод парабол. Point(x=-0.38484083372280703, y=None), N: 5\n",
      "Метод средней точки. Point(x=-0.3828125, y=None), Nd1: 5\n",
      "Метод хорд. Point(x=-0.38379118406798174, y=None), Nd1: 5\n",
      "Метод Ньютона. Point(x=-0.3854585785144336, y=None), Nd1: 3, Nd2: 3\n",
      "Метод Ньютона-Рафсона. Point(x=-0.38545861330834386, y=None), Nd1: 6, Nd2: 3\n",
      "Метод Марквардта. Point(x=-0.38555295721894106, y=0.7851952700249685), N: 9, Nd1: 8, Nd2: 8\n",
      "\n",
      "ε: 0.001\n",
      "Перебор. Point(x=-0.385, y=0.785195650625), N: 1001\n",
      "Поразрядный поиск. Point(x=-0.3857421875, y=0.7851954054067392), N: 18\n",
      "Дихотомия. Point(x=-0.38527685546875, y=0.7851953155454254), N: 21\n",
      "Золотое сечение. Point(x=-0.3860313206279953, y=0.7851958740757783), N: 16\n",
      "Метод парабол. Point(x=-0.3850955494956334, y=None), N: 6\n",
      "Метод средней точки. Point(x=-0.38525390625, y=None), Nd1: 6\n",
      "Метод хорд. Point(x=-0.38520287985942314, y=None), Nd1: 6\n",
      "Метод Ньютона. Point(x=-0.3854585785144336, y=None), Nd1: 3, Nd2: 3\n",
      "Метод Ньютона-Рафсона. Point(x=-0.38545849852964015, y=None), Nd1: 8, Nd2: 4\n",
      "Метод Марквардта. Point(x=-0.3854631453396607, y=0.7851952531879804), N: 10, Nd1: 9, Nd2: 9\n",
      "\n",
      "ε: 0.0001\n",
      "Перебор. Point(x=-0.38549999999999995, y=0.7851952564050625), N: 10001\n",
      "Поразрядный поиск. Point(x=-0.38543701171875, y=0.7851952540203821), N: 26\n",
      "Дихотомия. Point(x=-0.3854393029785156, y=0.7851952538440754), N: 27\n",
      "Золотое сечение. Point(x=-0.3854381999831844, y=0.7851952539264693), N: 21\n",
      "Метод парабол. Point(x=-0.3854181435355708, y=None), N: 8\n",
      "Метод средней точки. Point(x=-0.38543701171875, y=None), Nd1: 8\n",
      "Метод хорд. Point(x=-0.3854375466910329, y=None), Nd1: 8\n",
      "Метод Ньютона. Point(x=-0.3854584985296319, y=None), Nd1: 4, Nd2: 4\n",
      "Метод Ньютона-Рафсона. Point(x=-0.38545849852964015, y=None), Nd1: 8, Nd2: 4\n",
      "Метод Марквардта. Point(x=-0.38545861549232135, y=0.785195253147164), N: 11, Nd1: 10, Nd2: 10\n",
      "\n",
      "ε: 1e-05\n",
      "Перебор. Point(x=-0.3854599999999999, y=0.7851952531514022), N: 100001\n",
      "Поразрядный поиск. Point(x=-0.38545989990234375, y=0.7851952531508526), N: 34\n",
      "Дихотомия. Point(x=-0.3854601289825439, y=0.7851952531521663), N: 33\n",
      "Золотое сечение. Point(x=-0.3854604701620348, y=0.7851952531544908), N: 26\n",
      "Метод парабол. Point(x=-0.3854538574121409, y=None), N: 10\n",
      "Метод средней точки. Point(x=-0.38545989990234375, y=None), Nd1: 10\n",
      "Метод хорд. Point(x=-0.3854567814511368, y=None), Nd1: 10\n",
      "Метод Ньютона. Point(x=-0.3854584985296319, y=None), Nd1: 4, Nd2: 4\n",
      "Метод Ньютона-Рафсона. Point(x=-0.38545849852964015, y=None), Nd1: 8, Nd2: 4\n",
      "Метод Марквардта. Point(x=-0.38545850002009324, y=0.785195253147138), N: 12, Nd1: 11, Nd2: 11\n",
      "\n"
     ]
    }
   ],
   "source": [
    "for eps in (1e-2, 1e-3, 1e-4, 1e-5):\n",
    "  print(f\"ε: {eps}\")\n",
    "\n",
    "  f_wrap = LogPointsWrap(f)\n",
    "  eps_point = brute_force(f=f_wrap, a=a, b=b, eps=eps)\n",
    "  print(f'Перебор. {eps_point}, N: {len(f_wrap.points)}')\n",
    "\n",
    "  f_wrap = LogPointsWrap(f)\n",
    "  eps_point = bitwise_search(f=f_wrap, a=a, b=b, eps=eps, get_init_delta=lambda *args: 0.25)\n",
    "  print(f'Поразрядный поиск. {eps_point}, N: {len(f_wrap.points)}')\n",
    "\n",
    "  f_wrap = LogPointsWrap(f)\n",
    "  eps_point = dichotomy(f=f_wrap, a=a, b=b, eps=eps)\n",
    "  print(f'Дихотомия. {eps_point}, N: {len(f_wrap.points)}')\n",
    "\n",
    "  f_wrap = LogPointsWrap(f)\n",
    "  eps_point = golden_ratio(f=f_wrap, a=a, b=b, eps=eps)\n",
    "  print(f'Золотое сечение. {eps_point}, N: {len(f_wrap.points)}')\n",
    "\n",
    "  f_wrap = LogPointsWrap(f)\n",
    "  eps_point = parabola(f=f_wrap, a=a, b=b, eps=eps, get_init_points=get_init_points_gr)\n",
    "  print(f'Метод парабол. {eps_point}, N: {len(f_wrap.points)}')\n",
    "\n",
    "  fd1_wrap = LogPointsWrap(fd1)\n",
    "  eps_point = midpoint(f=fd1_wrap, a=a, b=b, eps=eps)\n",
    "  print(f'Метод средней точки. {eps_point}, Nd1: {len(f_wrap.points)}')\n",
    "\n",
    "  fd1_wrap = LogPointsWrap(fd1)\n",
    "  eps_point = chord(f=fd1_wrap, a=a, b=b, eps=eps)\n",
    "  print(f'Метод хорд. {eps_point}, Nd1: {len(f_wrap.points)}')\n",
    "\n",
    "  fd1_wrap = LogPointsWrap(fd1)\n",
    "  fd2_wrap = LogPointsWrap(fd2)\n",
    "  eps_point = newton(fd1=fd1_wrap, fd2=fd2_wrap, x0=x0, eps=eps)\n",
    "  print(f'Метод Ньютона. {eps_point}, Nd1: {len(fd1_wrap.points)}, Nd2: {len(fd2_wrap.points)}')\n",
    "\n",
    "  fd1_wrap = LogPointsWrap(fd1)\n",
    "  fd2_wrap = LogPointsWrap(fd2)\n",
    "  eps_point = newton(fd1=fd1_wrap, fd2=fd2_wrap, x0=x0, eps=eps, use_tau=True)\n",
    "  print(f'Метод Ньютона-Рафсона. {eps_point}, Nd1: {len(fd1_wrap.points)}, Nd2: {len(fd2_wrap.points)}')\n",
    "\n",
    "  fd1_wrap = LogPointsWrap(fd1)\n",
    "  fd2_wrap = LogPointsWrap(fd2)\n",
    "  f_wrap   = LogPointsWrap(f)\n",
    "  eps_point = newton(fd1=fd1_wrap, fd2=fd2_wrap, x0=x0, eps=eps, f=f_wrap)\n",
    "  print(f'Метод Марквардта. {eps_point}, N: {len(f_wrap.points)}, Nd1: {len(fd1_wrap.points)}, Nd2: {len(fd2_wrap.points)}')\n",
    "  print()"
   ]
  },
  {
   "cell_type": "markdown",
   "metadata": {},
   "source": [
    "**Выводы:**\n",
    "1. Среди методов, использующих значения функции в точке, самый простой (метод перебора) оказался самым неэффективным, количество вычислений значения функции N зависит обратно пропорционально от точности ε. Улучшенный вариант этого метода (метод поразрядного поиска) является намного эффективней, в силу использования унимодальности исследуемой функции.\n",
    "1. Для методов с исключением отрезков можно рассмотреть формулы для вычисления количества итераций, зависящих от точности. Для метода дихотомии фигурирует log2(x), который растёт быстрее чем ln(x), используемый для метода золотого сечения. Соответственно, для второго метода требуется меньшее кол-во итераций, а значит и меньшее кол-во вычислений значения функции в точке, что и видно из результатов.\n",
    "1. Метод парабол является наиболее эффективным среди прямых методов, так как в этом методе строится аппроксимирующий многочлен второго порядка с дальнейшим уменьшением отрезка аппроксимации.\n",
    "1. Сравнивая метод средней точки и метод дихотомии, можно сделать вывод, что первый является почти в два раза эффективней второго метода, так как вычисление двух значений функции вблизи середины очередного отрезка в методе дихотомии можно заменить вычислением одного значения производной исследуемой функции.\n",
    "1. Рассматривая метод Ньютона можно заметить, что для минимизации исследуемой функции с точностью 0.01, 0.001 и 0.0001 потребовалось одинаковое количество вычислений, что говорит о квадратичной скорости сходимости последовательности."
   ]
  },
  {
   "cell_type": "code",
   "execution_count": 8,
   "metadata": {},
   "outputs": [],
   "source": [
    "def newton_f(x):\n",
    "  return x * math.atan(x) - 1 / 2 * math.log(1 + x**2)\n",
    "\n",
    "def newton_fd1(x):\n",
    "  return math.atan(x)\n",
    "\n",
    "def newton_fd2(x):\n",
    "  return 1 / (1 + x * x)\n",
    "\n",
    "NEWTON_EXACT_MIN_POINT = Point(x=0, y=0)"
   ]
  },
  {
   "cell_type": "code",
   "execution_count": 9,
   "metadata": {},
   "outputs": [
    {
     "data": {
      "image/png": "[encoded data removed]",
      "text/plain": [
       "<Figure size 640x480 with 1 Axes>"
      ]
     },
     "metadata": {},
     "output_type": "display_data"
    }
   ],
   "source": [
    "x = np.arange(-50, 50, 0.001)\n",
    "y = [f(y) for y in x]\n",
    "\n",
    "fig, ax = plt.subplots()\n",
    "ax.scatter(EXACT_MIN_POINT.x, EXACT_MIN_POINT.y, c='r', label='$x^*$')\n",
    "ax.plot(x, y)\n",
    "ax.set(xlabel='x', ylabel='y')\n",
    "ax.legend()\n",
    "ax.grid()\n",
    "plt.show()\n",
    "\n",
    "eps = 0.1"
   ]
  },
  {
   "cell_type": "code",
   "execution_count": 10,
   "metadata": {},
   "outputs": [
    {
     "name": "stderr",
     "output_type": "stream",
     "text": [
      "/tmp/ipykernel_33274/1333368622.py:8: RuntimeWarning: overflow encountered in scalar multiply\n",
      "  return 1 / (1 + x * x)\n",
      "/home/alex/code/python/opt_methods/lab1/algos.py:258: RuntimeWarning: divide by zero encountered in scalar divide\n",
      "  x_new = x - tau * yd1 / (yd2 + mu)\n",
      "/home/alex/code/python/opt_methods/lab1/algos.py:258: RuntimeWarning: invalid value encountered in scalar subtract\n",
      "  x_new = x - tau * yd1 / (yd2 + mu)\n",
      "/home/alex/code/python/opt_methods/lab1/algos.py:258: RuntimeWarning: overflow encountered in scalar divide\n",
      "  x_new = x - tau * yd1 / (yd2 + mu)\n"
     ]
    }
   ],
   "source": [
    "a_newt = x[0]\n",
    "eps_point = None\n",
    "for x0 in x:\n",
    "  try:\n",
    "    eps_point = newton(fd1=newton_fd1, fd2=newton_fd2, x0=x0, eps=eps)\n",
    "    b_newt = x0\n",
    "  except ValueError:\n",
    "    if eps_point is None:\n",
    "      a_newt = x0\n",
    "    else:\n",
    "      break"
   ]
  },
  {
   "cell_type": "code",
   "execution_count": 11,
   "metadata": {},
   "outputs": [
    {
     "name": "stderr",
     "output_type": "stream",
     "text": [
      "/tmp/ipykernel_33274/1333368622.py:8: RuntimeWarning: overflow encountered in scalar multiply\n",
      "  return 1 / (1 + x * x)\n",
      "/home/alex/code/python/opt_methods/lab1/algos.py:251: RuntimeWarning: divide by zero encountered in scalar divide\n",
      "  x_tau = x - yd1 / yd2\n",
      "/home/alex/code/python/opt_methods/lab1/algos.py:251: RuntimeWarning: invalid value encountered in scalar subtract\n",
      "  x_tau = x - yd1 / yd2\n",
      "/home/alex/code/python/opt_methods/lab1/algos.py:251: RuntimeWarning: overflow encountered in scalar divide\n",
      "  x_tau = x - yd1 / yd2\n"
     ]
    }
   ],
   "source": [
    "a_raph = x[0]\n",
    "eps_point = None\n",
    "for x0 in x:\n",
    "  try:\n",
    "    eps_point = newton(fd1=newton_fd1, fd2=newton_fd2, x0=x0, eps=eps, use_tau=True)\n",
    "    b_raph = x0\n",
    "  except ValueError:\n",
    "    if eps_point is None:\n",
    "      a_raph = x0\n",
    "    else:\n",
    "      break"
   ]
  },
  {
   "cell_type": "code",
   "execution_count": 12,
   "metadata": {},
   "outputs": [],
   "source": [
    "a_marq = x[0]\n",
    "eps_point = None\n",
    "for x0 in x:\n",
    "  try:\n",
    "    eps_point = newton(fd1=newton_fd1, fd2=newton_fd2, x0=x0, eps=eps, f=newton_f)\n",
    "    b_marq = x0\n",
    "  except ValueError:\n",
    "    if eps_point is None:\n",
    "      a_marq = x0\n",
    "    else:\n",
    "      break"
   ]
  },
  {
   "cell_type": "code",
   "execution_count": 13,
   "metadata": {},
   "outputs": [
    {
     "name": "stdout",
     "output_type": "stream",
     "text": [
      "                a       b\n",
      "Ньютон     -1.392   1.391\n",
      "Рафсон     -3.371   3.370\n",
      "Марквардт -28.606 -28.409\n"
     ]
    }
   ],
   "source": [
    "# Define the data as a dictionary of lists (or other data structures).\n",
    "# Keys of the dictionary become column names, and the lists become row data.\n",
    "data = np.vstack([(a_newt, b_newt), (a_raph, b_raph), (a_marq, b_marq)])\n",
    "# Define row names (index) as a list.\n",
    "rows = [\"Ньютон\", \"Рафсон\", \"Марквардт\"]\n",
    "columns = ['a', 'b']\n",
    "\n",
    "# Create the DataFrame.\n",
    "df = pd.DataFrame(data, columns=columns, index=rows)\n",
    "\n",
    "# Display the DataFrame.\n",
    "print(df)\n"
   ]
  },
  {
   "cell_type": "markdown",
   "metadata": {},
   "source": [
    "**Выводы:**\n",
    "1.  Можно использовать обычный метод Ньютона для минимизации исследуемой функции, но для этого нужно предварительно рассчитать диапазон для начального приближения, иначе последовательность может расходиться.\n",
    "1.  Метод Ньютона-Рафсона позволяет расширить диапазон для начального приближения при помощи более сложного расчёта новой точки, что требует большего количества вычисления значений производной функции в точке."
   ]
  },
  {
   "cell_type": "code",
   "execution_count": null,
   "metadata": {},
   "outputs": [],
   "source": [
    "def multi_f1(x):\n",
    "  return math.cos(x) / x**2\n",
    "\n",
    "def multi_f2(x):\n",
    "  return 1 / 10 * x + 2 * math.sin(4*x)\n",
    "\n",
    "MULTI_F1_MIN_POINT = Point(x=2.45871, y=-0.128325)\n",
    "MULTI_F2_MIN_POINT = Point(x=1.1750, y=-1.8823)"
   ]
  },
  {
   "cell_type": "code",
   "execution_count": 15,
   "metadata": {},
   "outputs": [
    {
     "data": {
      "image/png": "[encoded data removed]",
      "text/plain": [
       "<Figure size 640x480 with 2 Axes>"
      ]
     },
     "metadata": {},
     "output_type": "display_data"
    }
   ],
   "source": [
    "x1 = np.arange(1, 12, 0.001)\n",
    "x2 = np.arange(0, 4, 0.001)\n",
    "y1 = [multi_f1(y) for y in x1]\n",
    "y2 = [multi_f2(y) for y in x2]\n",
    "\n",
    "fig, (ax1, ax2) = plt.subplots(1, 2)\n",
    "ax1.scatter(MULTI_F1_MIN_POINT.x, MULTI_F1_MIN_POINT.y, c='r', label='$x^*$')\n",
    "ax1.plot(x1, y1)\n",
    "ax1.set(xlabel='x', ylabel='y')\n",
    "ax1.legend()\n",
    "ax1.grid()\n",
    "ax2.scatter(MULTI_F2_MIN_POINT.x, MULTI_F2_MIN_POINT.y, c='r', label='$x^*$')\n",
    "ax2.plot(x2, y2)\n",
    "ax2.set(xlabel='x', ylabel='y')\n",
    "ax2.legend()\n",
    "ax2.grid()\n",
    "plt.show()"
   ]
  },
  {
   "cell_type": "code",
   "execution_count": 29,
   "metadata": {},
   "outputs": [
    {
     "data": {
      "text/html": [
       "<div>\n",
       "<style scoped>\n",
       "    .dataframe tbody tr th:only-of-type {\n",
       "        vertical-align: middle;\n",
       "    }\n",
       "\n",
       "    .dataframe tbody tr th {\n",
       "        vertical-align: top;\n",
       "    }\n",
       "\n",
       "    .dataframe thead th {\n",
       "        text-align: right;\n",
       "    }\n",
       "</style>\n",
       "<table border=\"1\" class=\"dataframe\">\n",
       "  <thead>\n",
       "    <tr style=\"text-align: right;\">\n",
       "      <th></th>\n",
       "      <th>Перебор</th>\n",
       "      <th>N1</th>\n",
       "      <th>Ломаные</th>\n",
       "      <th>N2</th>\n",
       "    </tr>\n",
       "  </thead>\n",
       "  <tbody>\n",
       "    <tr>\n",
       "      <th>0.01000</th>\n",
       "      <td>Point(x=2.46, y=-0.12832478741709516)</td>\n",
       "      <td>1101</td>\n",
       "      <td>Point(x=2.459212259811838, y=-0.12832490730739...</td>\n",
       "      <td>58</td>\n",
       "    </tr>\n",
       "    <tr>\n",
       "      <th>0.00100</th>\n",
       "      <td>Point(x=2.459, y=-0.12832492151036126)</td>\n",
       "      <td>11001</td>\n",
       "      <td>Point(x=2.4541665238973422, y=-0.1283231576210...</td>\n",
       "      <td>128</td>\n",
       "    </tr>\n",
       "    <tr>\n",
       "      <th>0.00010</th>\n",
       "      <td>Point(x=2.4587000000000003, y=-0.1283249284679...</td>\n",
       "      <td>110001</td>\n",
       "      <td>Point(x=2.4584769171885656, y=-0.1283249236776...</td>\n",
       "      <td>498</td>\n",
       "    </tr>\n",
       "    <tr>\n",
       "      <th>0.00001</th>\n",
       "      <td>Point(x=2.45871, y=-0.12832492848360486)</td>\n",
       "      <td>1100001</td>\n",
       "      <td>Point(x=2.458700135141239, y=-0.1283249284682596)</td>\n",
       "      <td>1400</td>\n",
       "    </tr>\n",
       "  </tbody>\n",
       "</table>\n",
       "</div>"
      ],
      "text/plain": [
       "                                                   Перебор       N1  \\\n",
       "0.01000              Point(x=2.46, y=-0.12832478741709516)     1101   \n",
       "0.00100             Point(x=2.459, y=-0.12832492151036126)    11001   \n",
       "0.00010  Point(x=2.4587000000000003, y=-0.1283249284679...   110001   \n",
       "0.00001           Point(x=2.45871, y=-0.12832492848360486)  1100001   \n",
       "\n",
       "                                                   Ломаные    N2  \n",
       "0.01000  Point(x=2.459212259811838, y=-0.12832490730739...    58  \n",
       "0.00100  Point(x=2.4541665238973422, y=-0.1283231576210...   128  \n",
       "0.00010  Point(x=2.4584769171885656, y=-0.1283249236776...   498  \n",
       "0.00001  Point(x=2.458700135141239, y=-0.1283249284682596)  1400  "
      ]
     },
     "execution_count": 29,
     "metadata": {},
     "output_type": "execute_result"
    }
   ],
   "source": [
    "data = []\n",
    "rows = []\n",
    "\n",
    "for eps in (1e-2, 1e-3, 1e-4, 1e-5):\n",
    "  f1_brute = LogPointsWrap(multi_f1)\n",
    "\n",
    "  actual_brute = brute_force(f=f1_brute, a=1, b=12, eps=eps)\n",
    "  f1_poly = LogPointsWrap(multi_f1)\n",
    "  actual_poly = polygonal_chain(f=f1_poly, a=1, b=12, eps=eps, get_L=lambda *args, **kwargs: 0.5)\n",
    "\n",
    "  data.append([actual_brute, len(f1_brute.points), actual_poly, len(f1_poly.points)])\n",
    "  rows.append(eps)\n",
    "\n",
    "pd.DataFrame(data=data, index=rows, columns=['Перебор', 'N1', 'Ломаные', 'N2'])"
   ]
  },
  {
   "cell_type": "code",
   "execution_count": 31,
   "metadata": {},
   "outputs": [
    {
     "data": {
      "text/html": [
       "<div>\n",
       "<style scoped>\n",
       "    .dataframe tbody tr th:only-of-type {\n",
       "        vertical-align: middle;\n",
       "    }\n",
       "\n",
       "    .dataframe tbody tr th {\n",
       "        vertical-align: top;\n",
       "    }\n",
       "\n",
       "    .dataframe thead th {\n",
       "        text-align: right;\n",
       "    }\n",
       "</style>\n",
       "<table border=\"1\" class=\"dataframe\">\n",
       "  <thead>\n",
       "    <tr style=\"text-align: right;\">\n",
       "      <th></th>\n",
       "      <th>Перебор</th>\n",
       "      <th>N1</th>\n",
       "      <th>Ломаные</th>\n",
       "      <th>N2</th>\n",
       "    </tr>\n",
       "  </thead>\n",
       "  <tbody>\n",
       "    <tr>\n",
       "      <th>0.01000</th>\n",
       "      <td>Point(x=1.17, y=-1.881951045654568)</td>\n",
       "      <td>401</td>\n",
       "      <td>Point(x=1.175391297000599, y=-1.882343716962165)</td>\n",
       "      <td>68</td>\n",
       "    </tr>\n",
       "    <tr>\n",
       "      <th>0.00100</th>\n",
       "      <td>Point(x=1.175, y=-1.8823465151282017)</td>\n",
       "      <td>4001</td>\n",
       "      <td>Point(x=1.174666210221601, y=-1.8823450299292261)</td>\n",
       "      <td>166</td>\n",
       "    </tr>\n",
       "    <tr>\n",
       "      <th>0.00010</th>\n",
       "      <td>Point(x=1.175, y=-1.8823465151282017)</td>\n",
       "      <td>40001</td>\n",
       "      <td>Point(x=1.1749574391621171, y=-1.8823465240562...</td>\n",
       "      <td>606</td>\n",
       "    </tr>\n",
       "    <tr>\n",
       "      <th>0.00001</th>\n",
       "      <td>Point(x=1.17497, y=-1.882346527450083)</td>\n",
       "      <td>400001</td>\n",
       "      <td>Point(x=1.1749711798049993, y=-1.8823465275094...</td>\n",
       "      <td>1690</td>\n",
       "    </tr>\n",
       "  </tbody>\n",
       "</table>\n",
       "</div>"
      ],
      "text/plain": [
       "                                        Перебор      N1  \\\n",
       "0.01000     Point(x=1.17, y=-1.881951045654568)     401   \n",
       "0.00100   Point(x=1.175, y=-1.8823465151282017)    4001   \n",
       "0.00010   Point(x=1.175, y=-1.8823465151282017)   40001   \n",
       "0.00001  Point(x=1.17497, y=-1.882346527450083)  400001   \n",
       "\n",
       "                                                   Ломаные    N2  \n",
       "0.01000   Point(x=1.175391297000599, y=-1.882343716962165)    68  \n",
       "0.00100  Point(x=1.174666210221601, y=-1.8823450299292261)   166  \n",
       "0.00010  Point(x=1.1749574391621171, y=-1.8823465240562...   606  \n",
       "0.00001  Point(x=1.1749711798049993, y=-1.8823465275094...  1690  "
      ]
     },
     "execution_count": 31,
     "metadata": {},
     "output_type": "execute_result"
    }
   ],
   "source": [
    "data = []\n",
    "rows = []\n",
    "\n",
    "for eps in (1e-2, 1e-3, 1e-4, 1e-5):\n",
    "  f2_brute = LogPointsWrap(multi_f2)\n",
    "\n",
    "  actual_brute = brute_force(f=f2_brute, a=0, b=4, eps=eps)\n",
    "  f2_poly = LogPointsWrap(multi_f2)\n",
    "  actual_poly = polygonal_chain(f=f2_poly, a=0, b=4, eps=eps, get_L=lambda *args, **kwargs: 82/10)\n",
    "\n",
    "  data.append([actual_brute, len(f2_brute.points), actual_poly, len(f2_poly.points)])\n",
    "  rows.append(eps)\n",
    "\n",
    "pd.DataFrame(data=data, index=rows, columns=['Перебор', 'N1', 'Ломаные', 'N2'])"
   ]
  },
  {
   "cell_type": "markdown",
   "metadata": {},
   "source": [
    "**Выводы:**\n",
    "Метод ломаных требует меньшего количества вычислений функции, однако нужно вычислить L."
   ]
  },
  {
   "cell_type": "markdown",
   "metadata": {},
   "source": [
    "## Контрольные вопросы\n"
   ]
  },
  {
   "cell_type": "markdown",
   "metadata": {},
   "source": [
    "1.  Пусть $f(x)$ − дифференцируемая унимодальная на отрезке $[a, b]$ функция, причем $|f'(x)| \\le M$. Оценить точность $\\Delta(N)$ при определении минимального значения $f^*$ методом перебора в результате $N$ вычислений $f(x)$."
   ]
  },
  {
   "cell_type": "markdown",
   "metadata": {},
   "source": [
    "$$\n",
    "L = max_{[a,b]}|f'(x)| = M\n",
    "$$\n",
    "\n",
    "$$\n",
    "|f(x_k) - f(x^*)| \\le L|x_k - x^*| \\le M|x_k - x^*| \\le M\\frac{b - a}{N - 1}\n",
    "$$\n",
    "\n",
    "$$\n",
    "\\Delta(N) \\le M\\frac{b - a}{N - 1}\n",
    "$$"
   ]
  },
  {
   "cell_type": "markdown",
   "metadata": {},
   "source": [
    "2.  Может ли оценка $\\epsilon(N) = \\frac{b - a}{N - 1}$ для точности определения $x^*$ методом перебора нарушаться для функций, не являющихся унимодальными? Ответ пояснить рисунком."
   ]
  },
  {
   "cell_type": "markdown",
   "metadata": {},
   "source": [
    "Да"
   ]
  },
  {
   "cell_type": "markdown",
   "metadata": {},
   "source": [
    "3.  Какие прямые методы называются методами пассивного поиска? Последовательного поиска?"
   ]
  },
  {
   "cell_type": "markdown",
   "metadata": {},
   "source": [
    "В методе перебора точки $x_i$, в которых определяются значения $f(x)$, выбираются заранее (*прямые методы пассивного поиска*). Если же для выбора очередной точки вычисления $f(x)$ использовать информацию, содержащуюся в уже найденных ее значениях, то поиск точки минимума можно сделать более эффективным, т.е. сократить число определяемых для этого значений $f(x)$ (*прямые методы последовательного* поиска)."
   ]
  },
  {
   "cell_type": "markdown",
   "metadata": {},
   "source": [
    "4.  Повысится ли эффективность метода поразрядного поиска, если шаг поиска $\\Delta$ последовательно уменьшать не в четыре, а в какое-либо другое число раз?"
   ]
  },
  {
   "cell_type": "markdown",
   "metadata": {},
   "source": [
    "Эффективно переиспользовать точки, поэтому делить нужно нацело, чтобы точки, взятые с меньшим шагом, приходились на уже вычисленные."
   ]
  },
  {
   "cell_type": "markdown",
   "metadata": {},
   "source": [
    "5. В чем состоит идея метода исключения отрезков?"
   ]
  },
  {
   "cell_type": "markdown",
   "metadata": {},
   "source": [
    "Один из путей (*исключения отрезков*) более эффективного поиска точки $x^∗$ следует из определения унимодальных функций. Действительно, пусть $a < x_1 < x_2 < b$. Сравнив значения $f(x)$ в пробных точках $x_1$ и $x_2$, можно сократить отрезок поиска точки $x^∗$, перейдя к отрезку $[a, x_2]$, если $f(x_1) \\le f(x_2)$, или к отрезку $[x_1, b]$, если $f(x_1) \\ge f(x_2)$. Описанную процедуру можно повторить необходимое число раз, последовательно уменьшая отрезок, содержащий точку минимума."
   ]
  },
  {
   "cell_type": "markdown",
   "metadata": {},
   "source": [
    "6.  Может ли применение методов исключения отрезков привести к неверному определению $x^*$, если функция $f(x)$ не унимодальна? Ответ пояснить рисунком."
   ]
  },
  {
   "cell_type": "markdown",
   "metadata": {},
   "source": [
    "Да"
   ]
  },
  {
   "cell_type": "markdown",
   "metadata": {},
   "source": [
    "7.  Зависит ли точность определения $x^*$, которую гарантируют методы дихотомии и золотого сечения в результате $N$ вычислений $f(x)$, от конкретной функции $f(x)$?"
   ]
  },
  {
   "cell_type": "markdown",
   "metadata": {},
   "source": [
    "Дихотомия:\n",
    "$$\n",
    "\\epsilon(N) = \\frac{b - a}{2^{\\frac{N}{2} + 1}}\n",
    "$$"
   ]
  },
  {
   "cell_type": "markdown",
   "metadata": {},
   "source": [
    "Золотого сечения:\n",
    "\n",
    "$$\n",
    "\\epsilon(N) = \\frac{1}{2}\\left(\\frac{\\sqrt{5} - 1}{2}\\right) ^ {N - 1}(b - a)\n",
    "$$"
   ]
  },
  {
   "cell_type": "markdown",
   "metadata": {},
   "source": [
    "**Вывод**: не зависит"
   ]
  },
  {
   "cell_type": "markdown",
   "metadata": {},
   "source": [
    "8.  Требуется найти точку минимума унимодальной функции на отрезке длины 1 с точностью $\\epsilon = 0.02$. Имеется возможность измерить не более 10 значений $f(x)$. Какой из прямых методов минимизации можно использовать для этого?"
   ]
  },
  {
   "cell_type": "code",
   "execution_count": 37,
   "metadata": {},
   "outputs": [
    {
     "name": "stdout",
     "output_type": "stream",
     "text": [
      "Золотое сечение: 0.006577808748212424, Дихотомия: 0.015625, Перебор: 0.1111111111111111\n",
      "['Золотое сечение', 'Дихотомия']\n"
     ]
    }
   ],
   "source": [
    "ab = 1\n",
    "N = 10\n",
    "eps = 0.02\n",
    "\n",
    "eps_golden = 1 / 2 * ((math.sqrt(5) - 1) / 2) ** (N - 1) * ab\n",
    "eps_dich = ab / (2 ** (N / 2 + 1))\n",
    "eps_brute = ab / (N - 1)\n",
    "\n",
    "res = [\n",
    "  (eps_golden, 'Золотое сечение'),\n",
    "  (eps_dich, 'Дихотомия'),\n",
    "  (eps_brute, 'Перебор'),\n",
    "]\n",
    "\n",
    "print(f'Золотое сечение: {eps_golden}, Дихотомия: {eps_dich}, Перебор: {eps_brute}')\n",
    "print([el[1] for el in filter(lambda x: x[0] <= eps, res)])"
   ]
  },
  {
   "cell_type": "markdown",
   "metadata": {},
   "source": [
    "9. Доказать, что погрешность определения точки минимума $x^*$ функции $f(x)$ методом перебора не превосходит величины $\\epsilon_n = (b - a) / n$."
   ]
  },
  {
   "cell_type": "markdown",
   "metadata": {},
   "source": [
    "см методичку"
   ]
  },
  {
   "cell_type": "markdown",
   "metadata": {},
   "source": [
    "![brute](./img/brute.png)"
   ]
  },
  {
   "cell_type": "markdown",
   "metadata": {},
   "source": [
    "10.  Доказать, что в методе дихотомии число итераций, необходимое для определения точки минимума с точностью $\\epsilon$, определяется формулой $n \\ge \\log_n\\frac{b - a - \\delta}{2\\epsilon - \\delta}$."
   ]
  },
  {
   "cell_type": "markdown",
   "metadata": {},
   "source": [
    "См методичку"
   ]
  },
  {
   "cell_type": "markdown",
   "metadata": {},
   "source": [
    "![dich](./img/dich.png)"
   ]
  },
  {
   "cell_type": "markdown",
   "metadata": {},
   "source": [
    "11. Доказать, что число итераций, необходимое для достижения заданной точности $\\epsilon$ на отрезке $[a, b]$ в методе золотого сечения определяется формулой $n \\ge \\ln\\left(\\frac{2\\epsilon}{b-a}\\right)/\\ln\\tau \\approx 2,1\\ln\\left(\\frac{b - a}{2\\epsilon}\\right)$."
   ]
  },
  {
   "cell_type": "markdown",
   "metadata": {},
   "source": [
    "![golden](./img/golden.png)"
   ]
  },
  {
   "cell_type": "markdown",
   "metadata": {},
   "source": [
    "12. Сравнить необходимые количества вычисленных значений $N_\\delta$ и $N_n$ функции $f(x)$ при поиске ее точки минимума на отрезке длины 1 с точностью $10^{-5}$ методом деления отрезка пополам и методом перебора."
   ]
  },
  {
   "cell_type": "code",
   "execution_count": 44,
   "metadata": {},
   "outputs": [
    {
     "name": "stdout",
     "output_type": "stream",
     "text": [
      "N_n / N_d: 5966.062743754693\n"
     ]
    }
   ],
   "source": [
    "ab = 1\n",
    "eps = 10 ** -5\n",
    "\n",
    "n_brute = ab / eps + 1\n",
    "delta = eps / 5\n",
    "n_dich = math.log2((ab - delta) / (2 * eps - delta)) + 1\n",
    "\n",
    "print(f'N_n / N_d: {n_brute / n_dich}')\n"
   ]
  },
  {
   "cell_type": "markdown",
   "metadata": {},
   "source": [
    "13. Зависит ли точность определения $x^*$, которая получается методом парабол в результате $N$ вычислений функции $f(x)$, от конкретной функции $f(x)$?"
   ]
  },
  {
   "cell_type": "markdown",
   "metadata": {},
   "source": [
    "![parabola](./img/parabola.png)\n",
    "\n",
    "Зависит"
   ]
  },
  {
   "cell_type": "markdown",
   "metadata": {},
   "source": [
    "14. Указать класс функций, для точного определения точек минимума которых достаточно одной итерации метода парабол."
   ]
  },
  {
   "cell_type": "markdown",
   "metadata": {},
   "source": [
    "Минимум параболы вычисляется за одну итерацию\n",
    "\n",
    "$$\n",
    "y = ax^2 + bx + c\n",
    "$$"
   ]
  },
  {
   "cell_type": "markdown",
   "metadata": {},
   "source": [
    "15. В окрестности точки минимума $x^*$ график $f_1(x)$ близок к симметричному относительно вертикальной оси, проходящей через точку $x^*$, а график $f_2(x)$ заметно асимметричен. Для какой из этих функций следует ожидать более высокой скорости сходимости, применяя метод парабол?"
   ]
  },
  {
   "cell_type": "markdown",
   "metadata": {},
   "source": [
    "Для симметричной функции следует ожидать более высокую скорость сходимости, т.к. парабола — симметричная функция, а значит лучше аппроксимирует также симметричные функции."
   ]
  },
  {
   "cell_type": "markdown",
   "metadata": {},
   "source": [
    "16. Пусть $f(x)$ − выпуклая дифференцируемая функция и $|f'(\\overline{x})| \\le \\epsilon$. Можно ли указать погрешности определения точки минимума $x^*$ и минимального значения $f^*$ по формулам $x^* = \\overline{x}$, $f^* = f(\\overline{x})$? Ответ пояснить рисунком."
   ]
  },
  {
   "cell_type": "markdown",
   "metadata": {},
   "source": [
    "$$\n",
    "|f(x^*) - f(\\overline{x})| \\le \\epsilon|x^* - \\overline{x}|\n",
    "$$"
   ]
  }
 ],
 "metadata": {
  "kernelspec": {
   "display_name": ".venv",
   "language": "python",
   "name": "python3"
  },
  "language_info": {
   "codemirror_mode": {
    "name": "ipython",
    "version": 3
   },
   "file_extension": ".py",
   "mimetype": "text/x-python",
   "name": "python",
   "nbconvert_exporter": "python",
   "pygments_lexer": "ipython3",
   "version": "3.12.5"
  }
 },
 "nbformat": 4,
 "nbformat_minor": 2
}
